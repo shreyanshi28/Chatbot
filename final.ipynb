{
 "cells": [
  {
   "cell_type": "code",
   "execution_count": 1,
   "metadata": {},
   "outputs": [],
   "source": [
    "import json\n",
    "import random\n",
    "import pandas as pd\n",
    "import nltk\n",
    "from nltk.stem import WordNetLemmatizer\n",
    "import re\n",
    "import string"
   ]
  },
  {
   "cell_type": "code",
   "execution_count": 2,
   "metadata": {},
   "outputs": [],
   "source": [
    "df = pd.read_json ('nfl6.json')"
   ]
  },
  {
   "cell_type": "code",
   "execution_count": 3,
   "metadata": {},
   "outputs": [],
   "source": [
    "df.to_csv ('text.csv', index = None)"
   ]
  },
  {
   "cell_type": "code",
   "execution_count": 4,
   "metadata": {},
   "outputs": [],
   "source": [
    "text = pd.read_csv(\"text.csv\")"
   ]
  },
  {
   "cell_type": "code",
   "execution_count": 5,
   "metadata": {},
   "outputs": [
    {
     "data": {
      "text/html": [
       "<div>\n",
       "<style scoped>\n",
       "    .dataframe tbody tr th:only-of-type {\n",
       "        vertical-align: middle;\n",
       "    }\n",
       "\n",
       "    .dataframe tbody tr th {\n",
       "        vertical-align: top;\n",
       "    }\n",
       "\n",
       "    .dataframe thead th {\n",
       "        text-align: right;\n",
       "    }\n",
       "</style>\n",
       "<table border=\"1\" class=\"dataframe\">\n",
       "  <thead>\n",
       "    <tr style=\"text-align: right;\">\n",
       "      <th></th>\n",
       "      <th>main_category</th>\n",
       "      <th>question</th>\n",
       "      <th>nbestanswers</th>\n",
       "      <th>answer</th>\n",
       "      <th>id</th>\n",
       "    </tr>\n",
       "  </thead>\n",
       "  <tbody>\n",
       "    <tr>\n",
       "      <th>0</th>\n",
       "      <td>News &amp; Events</td>\n",
       "      <td>Why did the U.S Invade Iraq ?</td>\n",
       "      <td>[\"A small group of politicians believed strong...</td>\n",
       "      <td>A small group of politicians believed strongly...</td>\n",
       "      <td>2020338</td>\n",
       "    </tr>\n",
       "    <tr>\n",
       "      <th>1</th>\n",
       "      <td>Education &amp; Reference</td>\n",
       "      <td>How to get rid of a beehive?</td>\n",
       "      <td>['Call an area apiarist.  They should be able ...</td>\n",
       "      <td>Call an area apiarist.  They should be able to...</td>\n",
       "      <td>2874684</td>\n",
       "    </tr>\n",
       "    <tr>\n",
       "      <th>2</th>\n",
       "      <td>Society &amp; Culture</td>\n",
       "      <td>Why don't European restaurants serve water?</td>\n",
       "      <td>[\"There's a general belief in Europe (and in f...</td>\n",
       "      <td>There's a general belief in Europe (and in fac...</td>\n",
       "      <td>4193114</td>\n",
       "    </tr>\n",
       "    <tr>\n",
       "      <th>3</th>\n",
       "      <td>Cars &amp; Transportation</td>\n",
       "      <td>Why hybrid cars gas mileage is better in city ?</td>\n",
       "      <td>[\"hybrid cars save energy in two ways: 1.by st...</td>\n",
       "      <td>hybrid cars save energy in two ways: 1.by stor...</td>\n",
       "      <td>1908421</td>\n",
       "    </tr>\n",
       "    <tr>\n",
       "      <th>4</th>\n",
       "      <td>Science &amp; Mathematics</td>\n",
       "      <td>Can someone explain the theory of e=mc2?</td>\n",
       "      <td>['In general it means that in a very high spee...</td>\n",
       "      <td>In general it means that in a very high speed ...</td>\n",
       "      <td>3608897</td>\n",
       "    </tr>\n",
       "    <tr>\n",
       "      <th>...</th>\n",
       "      <td>...</td>\n",
       "      <td>...</td>\n",
       "      <td>...</td>\n",
       "      <td>...</td>\n",
       "      <td>...</td>\n",
       "    </tr>\n",
       "    <tr>\n",
       "      <th>87357</th>\n",
       "      <td>Education &amp; Reference</td>\n",
       "      <td>How did the phrase \"(someone) has gone missing...</td>\n",
       "      <td>['I think it\\'s strange, too.. It sounds very ...</td>\n",
       "      <td>I think it's strange, too.. It sounds very col...</td>\n",
       "      <td>1134376</td>\n",
       "    </tr>\n",
       "    <tr>\n",
       "      <th>87358</th>\n",
       "      <td>Society &amp; Culture</td>\n",
       "      <td>Why in the world do I have to press 1 to get E...</td>\n",
       "      <td>['Because there are some Spanish people. If it...</td>\n",
       "      <td>Because there are some Spanish people. If it a...</td>\n",
       "      <td>945182</td>\n",
       "    </tr>\n",
       "    <tr>\n",
       "      <th>87359</th>\n",
       "      <td>Science &amp; Mathematics</td>\n",
       "      <td>Why chemicals should never be placed directly ...</td>\n",
       "      <td>['Because chemicals react with eachother, it i...</td>\n",
       "      <td>Because chemicals react with eachother, it is ...</td>\n",
       "      <td>3433624</td>\n",
       "    </tr>\n",
       "    <tr>\n",
       "      <th>87360</th>\n",
       "      <td>Arts &amp; Humanities</td>\n",
       "      <td>what do you consider..........?</td>\n",
       "      <td>[\"Never allow people to Ride on you.. Don't mi...</td>\n",
       "      <td>treat others as you want to be treated. becaus...</td>\n",
       "      <td>2900989</td>\n",
       "    </tr>\n",
       "    <tr>\n",
       "      <th>87361</th>\n",
       "      <td>Business &amp; Finance</td>\n",
       "      <td>How can I finance investment property?</td>\n",
       "      <td>['If you own your home, take a home equity loa...</td>\n",
       "      <td>You could try to get the owners of the propert...</td>\n",
       "      <td>1424320</td>\n",
       "    </tr>\n",
       "  </tbody>\n",
       "</table>\n",
       "<p>87362 rows × 5 columns</p>\n",
       "</div>"
      ],
      "text/plain": [
       "               main_category  \\\n",
       "0              News & Events   \n",
       "1      Education & Reference   \n",
       "2          Society & Culture   \n",
       "3      Cars & Transportation   \n",
       "4      Science & Mathematics   \n",
       "...                      ...   \n",
       "87357  Education & Reference   \n",
       "87358      Society & Culture   \n",
       "87359  Science & Mathematics   \n",
       "87360      Arts & Humanities   \n",
       "87361     Business & Finance   \n",
       "\n",
       "                                                question  \\\n",
       "0                          Why did the U.S Invade Iraq ?   \n",
       "1                           How to get rid of a beehive?   \n",
       "2            Why don't European restaurants serve water?   \n",
       "3        Why hybrid cars gas mileage is better in city ?   \n",
       "4               Can someone explain the theory of e=mc2?   \n",
       "...                                                  ...   \n",
       "87357  How did the phrase \"(someone) has gone missing...   \n",
       "87358  Why in the world do I have to press 1 to get E...   \n",
       "87359  Why chemicals should never be placed directly ...   \n",
       "87360                    what do you consider..........?   \n",
       "87361             How can I finance investment property?   \n",
       "\n",
       "                                            nbestanswers  \\\n",
       "0      [\"A small group of politicians believed strong...   \n",
       "1      ['Call an area apiarist.  They should be able ...   \n",
       "2      [\"There's a general belief in Europe (and in f...   \n",
       "3      [\"hybrid cars save energy in two ways: 1.by st...   \n",
       "4      ['In general it means that in a very high spee...   \n",
       "...                                                  ...   \n",
       "87357  ['I think it\\'s strange, too.. It sounds very ...   \n",
       "87358  ['Because there are some Spanish people. If it...   \n",
       "87359  ['Because chemicals react with eachother, it i...   \n",
       "87360  [\"Never allow people to Ride on you.. Don't mi...   \n",
       "87361  ['If you own your home, take a home equity loa...   \n",
       "\n",
       "                                                  answer       id  \n",
       "0      A small group of politicians believed strongly...  2020338  \n",
       "1      Call an area apiarist.  They should be able to...  2874684  \n",
       "2      There's a general belief in Europe (and in fac...  4193114  \n",
       "3      hybrid cars save energy in two ways: 1.by stor...  1908421  \n",
       "4      In general it means that in a very high speed ...  3608897  \n",
       "...                                                  ...      ...  \n",
       "87357  I think it's strange, too.. It sounds very col...  1134376  \n",
       "87358  Because there are some Spanish people. If it a...   945182  \n",
       "87359  Because chemicals react with eachother, it is ...  3433624  \n",
       "87360  treat others as you want to be treated. becaus...  2900989  \n",
       "87361  You could try to get the owners of the propert...  1424320  \n",
       "\n",
       "[87362 rows x 5 columns]"
      ]
     },
     "execution_count": 5,
     "metadata": {},
     "output_type": "execute_result"
    }
   ],
   "source": [
    "text"
   ]
  },
  {
   "cell_type": "code",
   "execution_count": 6,
   "metadata": {},
   "outputs": [
    {
     "data": {
      "text/plain": [
       "\"There's a general belief in Europe (and in fact elsewhere in the world, such as China) that it's unhealthy to drink water with a meal because it dilutes the digestive juices. Wine is OK because it stimulates digestion, and mineral waters are also considered digestives.. . In general, Europeans are much more concerned with the digestive process than Americans.\""
      ]
     },
     "execution_count": 6,
     "metadata": {},
     "output_type": "execute_result"
    }
   ],
   "source": [
    "text['answer'][2]"
   ]
  },
  {
   "cell_type": "code",
   "execution_count": 7,
   "metadata": {},
   "outputs": [
    {
     "data": {
      "text/plain": [
       "array(['News & Events', 'Education & Reference', 'Society & Culture',\n",
       "       'Cars & Transportation', 'Science & Mathematics',\n",
       "       'Politics & Government', 'Pets', 'Food & Drink',\n",
       "       'Business & Finance', 'Computers & Internet', 'Games & Recreation',\n",
       "       'Health', 'Travel', 'Social Science', 'Yahoo! Products',\n",
       "       'Consumer Electronics', 'Arts & Humanities', 'Dining Out',\n",
       "       'Local Businesses', 'Asia Pacific', 'Yahoo!7 Products'],\n",
       "      dtype=object)"
      ]
     },
     "execution_count": 7,
     "metadata": {},
     "output_type": "execute_result"
    }
   ],
   "source": [
    "text['main_category'].unique()"
   ]
  },
  {
   "cell_type": "code",
   "execution_count": 8,
   "metadata": {},
   "outputs": [],
   "source": [
    "text.drop(text[text['main_category'] == \"Health\"].index, inplace = True) \n",
    "text.drop(text[text['main_category'] == \"News & events\"].index, inplace = True) \n",
    "text.drop(text[text['main_category'] == \"Cars & Transportation\"].index, inplace = True) "
   ]
  },
  {
   "cell_type": "code",
   "execution_count": 9,
   "metadata": {},
   "outputs": [],
   "source": [
    "text.drop(text[text['main_category'] == \"Asia Pacific\"].index, inplace = True) \n",
    "text.drop(text[text['main_category'] == \"Consumer Electronics\"].index, inplace = True)\n",
    "text.drop(text[text['main_category'] == \"Local Businesses\"].index, inplace = True)"
   ]
  },
  {
   "cell_type": "code",
   "execution_count": 10,
   "metadata": {},
   "outputs": [],
   "source": [
    "text.drop(text[text['main_category'] == \"Yahoo! Products\"].index, inplace = True)\n",
    "text.drop(text[text['main_category'] == \"Dining Out\"].index, inplace = True)\n",
    "text.drop(text[text['main_category'] == \"Games & Recreation\"].index, inplace = True)"
   ]
  },
  {
   "cell_type": "code",
   "execution_count": 11,
   "metadata": {},
   "outputs": [],
   "source": [
    "text.drop(text[text['main_category'] == \"Yahoo!7 Products\"].index, inplace = True) \n",
    "text.drop(text[text['main_category'] == \"News & Events\"].index, inplace = True) \n",
    "text.drop(text[text['main_category'] == \"Business & Finance\"].index, inplace = True)"
   ]
  },
  {
   "cell_type": "code",
   "execution_count": 12,
   "metadata": {},
   "outputs": [],
   "source": [
    "text.drop(text[text['main_category'] == \"Computers & Internet\"].index, inplace = True)\n",
    "text.drop(text[text['main_category'] == \"Pets\"].index, inplace = True) \n",
    "text.drop(text[text['main_category'] == \"Politics & Government\"].index, inplace = True)\n",
    "text.drop(text[text['main_category'] == \"Food & Drink\"].index, inplace = True)\n",
    "text.drop(text[text['main_category'] == \"Travel\"].index, inplace = True)\n",
    "text.drop(text[text['main_category'] == \"Science & Mathematics\"].index, inplace = True)"
   ]
  },
  {
   "cell_type": "code",
   "execution_count": 13,
   "metadata": {},
   "outputs": [
    {
     "data": {
      "text/plain": [
       "array(['Education & Reference', 'Society & Culture', 'Social Science',\n",
       "       'Arts & Humanities'], dtype=object)"
      ]
     },
     "execution_count": 13,
     "metadata": {},
     "output_type": "execute_result"
    }
   ],
   "source": [
    "text['main_category'].unique()"
   ]
  },
  {
   "cell_type": "code",
   "execution_count": 14,
   "metadata": {},
   "outputs": [
    {
     "data": {
      "text/plain": [
       "count                 20922\n",
       "unique                    4\n",
       "top       Society & Culture\n",
       "freq                   8651\n",
       "Name: main_category, dtype: object"
      ]
     },
     "execution_count": 14,
     "metadata": {},
     "output_type": "execute_result"
    }
   ],
   "source": [
    "text['main_category'].describe()"
   ]
  },
  {
   "cell_type": "code",
   "execution_count": 15,
   "metadata": {},
   "outputs": [],
   "source": [
    "text = text.drop('id',axis=1)"
   ]
  },
  {
   "cell_type": "code",
   "execution_count": 16,
   "metadata": {},
   "outputs": [],
   "source": [
    "text = text.drop('question',axis=1)"
   ]
  },
  {
   "cell_type": "code",
   "execution_count": 17,
   "metadata": {
    "scrolled": true
   },
   "outputs": [
    {
     "data": {
      "text/html": [
       "<div>\n",
       "<style scoped>\n",
       "    .dataframe tbody tr th:only-of-type {\n",
       "        vertical-align: middle;\n",
       "    }\n",
       "\n",
       "    .dataframe tbody tr th {\n",
       "        vertical-align: top;\n",
       "    }\n",
       "\n",
       "    .dataframe thead th {\n",
       "        text-align: right;\n",
       "    }\n",
       "</style>\n",
       "<table border=\"1\" class=\"dataframe\">\n",
       "  <thead>\n",
       "    <tr style=\"text-align: right;\">\n",
       "      <th></th>\n",
       "      <th>main_category</th>\n",
       "      <th>nbestanswers</th>\n",
       "      <th>answer</th>\n",
       "    </tr>\n",
       "  </thead>\n",
       "  <tbody>\n",
       "    <tr>\n",
       "      <th>1</th>\n",
       "      <td>Education &amp; Reference</td>\n",
       "      <td>['Call an area apiarist.  They should be able ...</td>\n",
       "      <td>Call an area apiarist.  They should be able to...</td>\n",
       "    </tr>\n",
       "    <tr>\n",
       "      <th>2</th>\n",
       "      <td>Society &amp; Culture</td>\n",
       "      <td>[\"There's a general belief in Europe (and in f...</td>\n",
       "      <td>There's a general belief in Europe (and in fac...</td>\n",
       "    </tr>\n",
       "    <tr>\n",
       "      <th>5</th>\n",
       "      <td>Education &amp; Reference</td>\n",
       "      <td>[\"I used to work in a college admissions offic...</td>\n",
       "      <td>I used to work in a college admissions office ...</td>\n",
       "    </tr>\n",
       "    <tr>\n",
       "      <th>13</th>\n",
       "      <td>Society &amp; Culture</td>\n",
       "      <td>['Possibly because African royalty used umbrel...</td>\n",
       "      <td>Possibly because African royalty used umbrella...</td>\n",
       "    </tr>\n",
       "    <tr>\n",
       "      <th>15</th>\n",
       "      <td>Society &amp; Culture</td>\n",
       "      <td>[\"Eggnog is a popular wintertime drink.  We do...</td>\n",
       "      <td>Eggnog is a popular wintertime drink.  We do n...</td>\n",
       "    </tr>\n",
       "    <tr>\n",
       "      <th>...</th>\n",
       "      <td>...</td>\n",
       "      <td>...</td>\n",
       "      <td>...</td>\n",
       "    </tr>\n",
       "    <tr>\n",
       "      <th>87348</th>\n",
       "      <td>Society &amp; Culture</td>\n",
       "      <td>['a friend is someone who can see your faults ...</td>\n",
       "      <td>a friend is someone who can see your faults an...</td>\n",
       "    </tr>\n",
       "    <tr>\n",
       "      <th>87355</th>\n",
       "      <td>Education &amp; Reference</td>\n",
       "      <td>['Filipino physicist are physicists in the Phi...</td>\n",
       "      <td>Filipino physicist are physicists in the Phili...</td>\n",
       "    </tr>\n",
       "    <tr>\n",
       "      <th>87357</th>\n",
       "      <td>Education &amp; Reference</td>\n",
       "      <td>['I think it\\'s strange, too.. It sounds very ...</td>\n",
       "      <td>I think it's strange, too.. It sounds very col...</td>\n",
       "    </tr>\n",
       "    <tr>\n",
       "      <th>87358</th>\n",
       "      <td>Society &amp; Culture</td>\n",
       "      <td>['Because there are some Spanish people. If it...</td>\n",
       "      <td>Because there are some Spanish people. If it a...</td>\n",
       "    </tr>\n",
       "    <tr>\n",
       "      <th>87360</th>\n",
       "      <td>Arts &amp; Humanities</td>\n",
       "      <td>[\"Never allow people to Ride on you.. Don't mi...</td>\n",
       "      <td>treat others as you want to be treated. becaus...</td>\n",
       "    </tr>\n",
       "  </tbody>\n",
       "</table>\n",
       "<p>20922 rows × 3 columns</p>\n",
       "</div>"
      ],
      "text/plain": [
       "               main_category  \\\n",
       "1      Education & Reference   \n",
       "2          Society & Culture   \n",
       "5      Education & Reference   \n",
       "13         Society & Culture   \n",
       "15         Society & Culture   \n",
       "...                      ...   \n",
       "87348      Society & Culture   \n",
       "87355  Education & Reference   \n",
       "87357  Education & Reference   \n",
       "87358      Society & Culture   \n",
       "87360      Arts & Humanities   \n",
       "\n",
       "                                            nbestanswers  \\\n",
       "1      ['Call an area apiarist.  They should be able ...   \n",
       "2      [\"There's a general belief in Europe (and in f...   \n",
       "5      [\"I used to work in a college admissions offic...   \n",
       "13     ['Possibly because African royalty used umbrel...   \n",
       "15     [\"Eggnog is a popular wintertime drink.  We do...   \n",
       "...                                                  ...   \n",
       "87348  ['a friend is someone who can see your faults ...   \n",
       "87355  ['Filipino physicist are physicists in the Phi...   \n",
       "87357  ['I think it\\'s strange, too.. It sounds very ...   \n",
       "87358  ['Because there are some Spanish people. If it...   \n",
       "87360  [\"Never allow people to Ride on you.. Don't mi...   \n",
       "\n",
       "                                                  answer  \n",
       "1      Call an area apiarist.  They should be able to...  \n",
       "2      There's a general belief in Europe (and in fac...  \n",
       "5      I used to work in a college admissions office ...  \n",
       "13     Possibly because African royalty used umbrella...  \n",
       "15     Eggnog is a popular wintertime drink.  We do n...  \n",
       "...                                                  ...  \n",
       "87348  a friend is someone who can see your faults an...  \n",
       "87355  Filipino physicist are physicists in the Phili...  \n",
       "87357  I think it's strange, too.. It sounds very col...  \n",
       "87358  Because there are some Spanish people. If it a...  \n",
       "87360  treat others as you want to be treated. becaus...  \n",
       "\n",
       "[20922 rows x 3 columns]"
      ]
     },
     "execution_count": 17,
     "metadata": {},
     "output_type": "execute_result"
    }
   ],
   "source": [
    "text"
   ]
  },
  {
   "cell_type": "code",
   "execution_count": 18,
   "metadata": {},
   "outputs": [],
   "source": [
    "text = text.reset_index()"
   ]
  },
  {
   "cell_type": "code",
   "execution_count": 19,
   "metadata": {},
   "outputs": [],
   "source": [
    "lemmer = WordNetLemmatizer()\n",
    "corpus_ans = []\n",
    "for i in range(0, len(text)):\n",
    "    ans = re.sub(r'\\[[0-9]*\\]', ' ', text['answer'][i])\n",
    "    ans = re.sub(r'[^a-zA-Z]', ' ', text['answer'][i])\n",
    "    ans = re.sub(r'\\n', '', text['answer'][i])\n",
    "    ans = ans.lower()\n",
    "    ans = ans.split()\n",
    "    ans = [lemmer.lemmatize(word) for word in ans]\n",
    "    ans = ' '.join(ans)\n",
    "    corpus_ans.append(ans)"
   ]
  },
  {
   "cell_type": "code",
   "execution_count": 20,
   "metadata": {
    "scrolled": true
   },
   "outputs": [
    {
     "data": {
      "text/plain": [
       "['call an area apiarist. they should be able to help you and would most likely remove them at no charge in exchange for the hive. the bee have value and they now belong to you.',\n",
       " \"there's a general belief in europe (and in fact elsewhere in the world, such a china) that it's unhealthy to drink water with a meal because it dilutes the digestive juices. wine is ok because it stimulates digestion, and mineral water are also considered digestives.. . in general, european are much more concerned with the digestive process than americans.\",\n",
       " \"i used to work in a college admission office for a major university and they used a specific formula for calculating gpas. they did this to put everyone on an even playing field - so that high school that don't weight ap class differently would be measured the same a those that do. though i don't remember the specific calculation anymore, i definitely remember that ap class were given a higher score. i'd suggest you take the ap class and try for the best grade you can get - because ultimately it'll be weighted higher at the college/university you are interested in, giving you a better chance of getting in!\",\n",
       " 'possibly because african royalty used umbrella a protection from the sun, and opening one in the shade wa considered an insult to the sun god. opening it indoors wa also taboo.',\n",
       " \"eggnog is a popular wintertime drink. we do not serve eggnog only during christmas. it is also popular on new year's day and some serve it on thanksgiving.\"]"
      ]
     },
     "execution_count": 20,
     "metadata": {},
     "output_type": "execute_result"
    }
   ],
   "source": [
    "corpus_ans[0:5]"
   ]
  },
  {
   "cell_type": "code",
   "execution_count": 21,
   "metadata": {},
   "outputs": [],
   "source": [
    "text['answer'] = corpus_ans"
   ]
  },
  {
   "cell_type": "code",
   "execution_count": 22,
   "metadata": {},
   "outputs": [
    {
     "data": {
      "text/html": [
       "<div>\n",
       "<style scoped>\n",
       "    .dataframe tbody tr th:only-of-type {\n",
       "        vertical-align: middle;\n",
       "    }\n",
       "\n",
       "    .dataframe tbody tr th {\n",
       "        vertical-align: top;\n",
       "    }\n",
       "\n",
       "    .dataframe thead th {\n",
       "        text-align: right;\n",
       "    }\n",
       "</style>\n",
       "<table border=\"1\" class=\"dataframe\">\n",
       "  <thead>\n",
       "    <tr style=\"text-align: right;\">\n",
       "      <th></th>\n",
       "      <th>index</th>\n",
       "      <th>main_category</th>\n",
       "      <th>nbestanswers</th>\n",
       "      <th>answer</th>\n",
       "    </tr>\n",
       "  </thead>\n",
       "  <tbody>\n",
       "    <tr>\n",
       "      <th>0</th>\n",
       "      <td>1</td>\n",
       "      <td>Education &amp; Reference</td>\n",
       "      <td>['Call an area apiarist.  They should be able ...</td>\n",
       "      <td>call an area apiarist. they should be able to ...</td>\n",
       "    </tr>\n",
       "    <tr>\n",
       "      <th>1</th>\n",
       "      <td>2</td>\n",
       "      <td>Society &amp; Culture</td>\n",
       "      <td>[\"There's a general belief in Europe (and in f...</td>\n",
       "      <td>there's a general belief in europe (and in fac...</td>\n",
       "    </tr>\n",
       "    <tr>\n",
       "      <th>2</th>\n",
       "      <td>5</td>\n",
       "      <td>Education &amp; Reference</td>\n",
       "      <td>[\"I used to work in a college admissions offic...</td>\n",
       "      <td>i used to work in a college admission office f...</td>\n",
       "    </tr>\n",
       "    <tr>\n",
       "      <th>3</th>\n",
       "      <td>13</td>\n",
       "      <td>Society &amp; Culture</td>\n",
       "      <td>['Possibly because African royalty used umbrel...</td>\n",
       "      <td>possibly because african royalty used umbrella...</td>\n",
       "    </tr>\n",
       "    <tr>\n",
       "      <th>4</th>\n",
       "      <td>15</td>\n",
       "      <td>Society &amp; Culture</td>\n",
       "      <td>[\"Eggnog is a popular wintertime drink.  We do...</td>\n",
       "      <td>eggnog is a popular wintertime drink. we do no...</td>\n",
       "    </tr>\n",
       "    <tr>\n",
       "      <th>...</th>\n",
       "      <td>...</td>\n",
       "      <td>...</td>\n",
       "      <td>...</td>\n",
       "      <td>...</td>\n",
       "    </tr>\n",
       "    <tr>\n",
       "      <th>20917</th>\n",
       "      <td>87348</td>\n",
       "      <td>Society &amp; Culture</td>\n",
       "      <td>['a friend is someone who can see your faults ...</td>\n",
       "      <td>a friend is someone who can see your fault and...</td>\n",
       "    </tr>\n",
       "    <tr>\n",
       "      <th>20918</th>\n",
       "      <td>87355</td>\n",
       "      <td>Education &amp; Reference</td>\n",
       "      <td>['Filipino physicist are physicists in the Phi...</td>\n",
       "      <td>filipino physicist are physicist in the philip...</td>\n",
       "    </tr>\n",
       "    <tr>\n",
       "      <th>20919</th>\n",
       "      <td>87357</td>\n",
       "      <td>Education &amp; Reference</td>\n",
       "      <td>['I think it\\'s strange, too.. It sounds very ...</td>\n",
       "      <td>i think it's strange, too.. it sound very coll...</td>\n",
       "    </tr>\n",
       "    <tr>\n",
       "      <th>20920</th>\n",
       "      <td>87358</td>\n",
       "      <td>Society &amp; Culture</td>\n",
       "      <td>['Because there are some Spanish people. If it...</td>\n",
       "      <td>because there are some spanish people. if it a...</td>\n",
       "    </tr>\n",
       "    <tr>\n",
       "      <th>20921</th>\n",
       "      <td>87360</td>\n",
       "      <td>Arts &amp; Humanities</td>\n",
       "      <td>[\"Never allow people to Ride on you.. Don't mi...</td>\n",
       "      <td>treat others a you want to be treated. because...</td>\n",
       "    </tr>\n",
       "  </tbody>\n",
       "</table>\n",
       "<p>20922 rows × 4 columns</p>\n",
       "</div>"
      ],
      "text/plain": [
       "       index          main_category  \\\n",
       "0          1  Education & Reference   \n",
       "1          2      Society & Culture   \n",
       "2          5  Education & Reference   \n",
       "3         13      Society & Culture   \n",
       "4         15      Society & Culture   \n",
       "...      ...                    ...   \n",
       "20917  87348      Society & Culture   \n",
       "20918  87355  Education & Reference   \n",
       "20919  87357  Education & Reference   \n",
       "20920  87358      Society & Culture   \n",
       "20921  87360      Arts & Humanities   \n",
       "\n",
       "                                            nbestanswers  \\\n",
       "0      ['Call an area apiarist.  They should be able ...   \n",
       "1      [\"There's a general belief in Europe (and in f...   \n",
       "2      [\"I used to work in a college admissions offic...   \n",
       "3      ['Possibly because African royalty used umbrel...   \n",
       "4      [\"Eggnog is a popular wintertime drink.  We do...   \n",
       "...                                                  ...   \n",
       "20917  ['a friend is someone who can see your faults ...   \n",
       "20918  ['Filipino physicist are physicists in the Phi...   \n",
       "20919  ['I think it\\'s strange, too.. It sounds very ...   \n",
       "20920  ['Because there are some Spanish people. If it...   \n",
       "20921  [\"Never allow people to Ride on you.. Don't mi...   \n",
       "\n",
       "                                                  answer  \n",
       "0      call an area apiarist. they should be able to ...  \n",
       "1      there's a general belief in europe (and in fac...  \n",
       "2      i used to work in a college admission office f...  \n",
       "3      possibly because african royalty used umbrella...  \n",
       "4      eggnog is a popular wintertime drink. we do no...  \n",
       "...                                                  ...  \n",
       "20917  a friend is someone who can see your fault and...  \n",
       "20918  filipino physicist are physicist in the philip...  \n",
       "20919  i think it's strange, too.. it sound very coll...  \n",
       "20920  because there are some spanish people. if it a...  \n",
       "20921  treat others a you want to be treated. because...  \n",
       "\n",
       "[20922 rows x 4 columns]"
      ]
     },
     "execution_count": 22,
     "metadata": {},
     "output_type": "execute_result"
    }
   ],
   "source": [
    "text"
   ]
  },
  {
   "cell_type": "code",
   "execution_count": 23,
   "metadata": {},
   "outputs": [],
   "source": [
    "text = text.drop('index',axis=1)\n",
    "text = text.drop('nbestanswers',axis=1)\n",
    "text = text.drop('main_category',axis=1)"
   ]
  },
  {
   "cell_type": "code",
   "execution_count": 24,
   "metadata": {},
   "outputs": [],
   "source": [
    "text.to_csv(\"new2.csv\",index=False)"
   ]
  },
  {
   "cell_type": "code",
   "execution_count": 25,
   "metadata": {},
   "outputs": [],
   "source": [
    "df = pd.read_csv(\"new2.csv\")"
   ]
  },
  {
   "cell_type": "code",
   "execution_count": 26,
   "metadata": {},
   "outputs": [
    {
     "data": {
      "text/html": [
       "<div>\n",
       "<style scoped>\n",
       "    .dataframe tbody tr th:only-of-type {\n",
       "        vertical-align: middle;\n",
       "    }\n",
       "\n",
       "    .dataframe tbody tr th {\n",
       "        vertical-align: top;\n",
       "    }\n",
       "\n",
       "    .dataframe thead th {\n",
       "        text-align: right;\n",
       "    }\n",
       "</style>\n",
       "<table border=\"1\" class=\"dataframe\">\n",
       "  <thead>\n",
       "    <tr style=\"text-align: right;\">\n",
       "      <th></th>\n",
       "      <th>answer</th>\n",
       "    </tr>\n",
       "  </thead>\n",
       "  <tbody>\n",
       "    <tr>\n",
       "      <th>0</th>\n",
       "      <td>call an area apiarist. they should be able to ...</td>\n",
       "    </tr>\n",
       "    <tr>\n",
       "      <th>1</th>\n",
       "      <td>there's a general belief in europe (and in fac...</td>\n",
       "    </tr>\n",
       "    <tr>\n",
       "      <th>2</th>\n",
       "      <td>i used to work in a college admission office f...</td>\n",
       "    </tr>\n",
       "    <tr>\n",
       "      <th>3</th>\n",
       "      <td>possibly because african royalty used umbrella...</td>\n",
       "    </tr>\n",
       "    <tr>\n",
       "      <th>4</th>\n",
       "      <td>eggnog is a popular wintertime drink. we do no...</td>\n",
       "    </tr>\n",
       "    <tr>\n",
       "      <th>...</th>\n",
       "      <td>...</td>\n",
       "    </tr>\n",
       "    <tr>\n",
       "      <th>20917</th>\n",
       "      <td>a friend is someone who can see your fault and...</td>\n",
       "    </tr>\n",
       "    <tr>\n",
       "      <th>20918</th>\n",
       "      <td>filipino physicist are physicist in the philip...</td>\n",
       "    </tr>\n",
       "    <tr>\n",
       "      <th>20919</th>\n",
       "      <td>i think it's strange, too.. it sound very coll...</td>\n",
       "    </tr>\n",
       "    <tr>\n",
       "      <th>20920</th>\n",
       "      <td>because there are some spanish people. if it a...</td>\n",
       "    </tr>\n",
       "    <tr>\n",
       "      <th>20921</th>\n",
       "      <td>treat others a you want to be treated. because...</td>\n",
       "    </tr>\n",
       "  </tbody>\n",
       "</table>\n",
       "<p>20922 rows × 1 columns</p>\n",
       "</div>"
      ],
      "text/plain": [
       "                                                  answer\n",
       "0      call an area apiarist. they should be able to ...\n",
       "1      there's a general belief in europe (and in fac...\n",
       "2      i used to work in a college admission office f...\n",
       "3      possibly because african royalty used umbrella...\n",
       "4      eggnog is a popular wintertime drink. we do no...\n",
       "...                                                  ...\n",
       "20917  a friend is someone who can see your fault and...\n",
       "20918  filipino physicist are physicist in the philip...\n",
       "20919  i think it's strange, too.. it sound very coll...\n",
       "20920  because there are some spanish people. if it a...\n",
       "20921  treat others a you want to be treated. because...\n",
       "\n",
       "[20922 rows x 1 columns]"
      ]
     },
     "execution_count": 26,
     "metadata": {},
     "output_type": "execute_result"
    }
   ],
   "source": [
    "df"
   ]
  },
  {
   "cell_type": "code",
   "execution_count": 27,
   "metadata": {},
   "outputs": [],
   "source": [
    "f=open('final.txt','r',errors = 'ignore')"
   ]
  },
  {
   "cell_type": "code",
   "execution_count": 28,
   "metadata": {},
   "outputs": [],
   "source": [
    "raw=f.read()"
   ]
  },
  {
   "cell_type": "code",
   "execution_count": 29,
   "metadata": {},
   "outputs": [],
   "source": [
    "sent_tokens = nltk.sent_tokenize(raw)"
   ]
  },
  {
   "cell_type": "code",
   "execution_count": 30,
   "metadata": {},
   "outputs": [],
   "source": [
    "from sklearn.metrics.pairwise import cosine_similarity\n",
    "from sklearn.feature_extraction.text import TfidfVectorizer"
   ]
  },
  {
   "cell_type": "code",
   "execution_count": 31,
   "metadata": {},
   "outputs": [],
   "source": [
    "Greeting_Inputs = (\"hello\", \"hi\", \"greetings\", \"sup\", \"good morning\",\"hey\",\"good evening\",\"good afternoon\")"
   ]
  },
  {
   "cell_type": "code",
   "execution_count": 32,
   "metadata": {},
   "outputs": [],
   "source": [
    "Greeting_Responses = [\"hi\", \"hey\", \"*nods*\", \"hi there\", \"hello\", \"I am glad! You are talking to me\"]"
   ]
  },
  {
   "cell_type": "code",
   "execution_count": 33,
   "metadata": {},
   "outputs": [],
   "source": [
    "def greeting(sentence):\n",
    "    for word in sentence.split():\n",
    "        if word.lower() in Greeting_Inputs:\n",
    "            return random.choice(Greeting_Responses)"
   ]
  },
  {
   "cell_type": "code",
   "execution_count": 34,
   "metadata": {},
   "outputs": [],
   "source": [
    "generic_response = [\"My sole purpose is to talk. I am neither happy, sad or sleepy. What about you?\", \"Well,You already know the answer. Dont'you? \"]"
   ]
  },
  {
   "cell_type": "code",
   "execution_count": 35,
   "metadata": {},
   "outputs": [],
   "source": [
    "def LemTokens(tokens):\n",
    "    return [lemmer.lemmatize(token) for token in tokens]"
   ]
  },
  {
   "cell_type": "code",
   "execution_count": 36,
   "metadata": {},
   "outputs": [],
   "source": [
    "remove_punct_dict = dict((ord(punct), None) for punct in string.punctuation)"
   ]
  },
  {
   "cell_type": "code",
   "execution_count": 37,
   "metadata": {},
   "outputs": [],
   "source": [
    "def LemNormalize(text):\n",
    "    return LemTokens(nltk.word_tokenize(text.lower().translate(remove_punct_dict)))"
   ]
  },
  {
   "cell_type": "code",
   "execution_count": 38,
   "metadata": {},
   "outputs": [],
   "source": [
    "def response(user_response):\n",
    "    bot_response=''\n",
    "    sent_tokens.append(user_response)\n",
    "    TfidfVector = TfidfVectorizer(tokenizer=LemNormalize)\n",
    "    tfidf = TfidfVector.fit_transform(sent_tokens)\n",
    "    value = cosine_similarity(tfidf[-1], tfidf)\n",
    "    final =value.argsort()[0][-2]\n",
    "    flat = value.flatten()\n",
    "    flat.sort()\n",
    "    req_tfidf = flat[-2]\n",
    "    if(req_tfidf==0):\n",
    "        bot_response=bot_response+\"Rephrase it into simpler words!\"\n",
    "        return bot_response\n",
    "    else:\n",
    "        bot_response = bot_response+sent_tokens[final]\n",
    "        return bot_response"
   ]
  },
  {
   "cell_type": "code",
   "execution_count": 43,
   "metadata": {},
   "outputs": [
    {
     "name": "stdout",
     "output_type": "stream",
     "text": [
      "BOT: Let's talk! Keep the text short and use keywords. If you want to exit, type Bye or Thank you!\n",
      "You : bye\n",
      "BOT: Bye! It was an interesting conversation.\n"
     ]
    }
   ],
   "source": [
    "flag=True\n",
    "print(\"BOT: Let's talk! Keep the text short and use keywords. If you want to exit, type Bye or Thank you!\")\n",
    "while(flag==True):\n",
    "    user_response = input('You : ')\n",
    "    user_response=user_response.lower()\n",
    "    keyword = \"wisdom\"\n",
    "    keyword1 = \"quote\"\n",
    "    if(user_response!='bye'):\n",
    "        if(user_response=='thanks' or user_response=='thank you' ):\n",
    "            flag=False\n",
    "            print(\"BOT : You are welcome!:)\")\n",
    "        else:\n",
    "            if(greeting(user_response)!=None):\n",
    "                print(\"BOT : \"+greeting(user_response))\n",
    "            elif(user_response.find(\"how are you\") != -1 or user_response.find(\"do you feel\") != -1 or user_response.find(\"do you have emotions\")!=-1 or user_response.find(\"do you sleep\")!=-1):\n",
    "                print(\"BOT : \"+random.choice(generic_response))\n",
    "            elif(user_response.find(\"what is your name\")!=-1):\n",
    "                print(\"You can call me anything you want! I prefer Bot:)\")\n",
    "            elif(user_response.find(keyword)!=-1 or user_response.find(keyword1)!=-1):\n",
    "                print(\"We've all got both light and dark inside us. What matters is the part we choose to act on. That's who we really are!\")\n",
    "            else:\n",
    "                print(\"BOT: \",end=\"\")\n",
    "                print(response(user_response))\n",
    "                sent_tokens.remove(user_response)\n",
    "    else:\n",
    "        flag=False\n",
    "        print(\"BOT: Bye! It was an interesting conversation.\")"
   ]
  },
  {
   "cell_type": "code",
   "execution_count": null,
   "metadata": {},
   "outputs": [],
   "source": []
  },
  {
   "cell_type": "code",
   "execution_count": null,
   "metadata": {},
   "outputs": [],
   "source": []
  },
  {
   "cell_type": "code",
   "execution_count": null,
   "metadata": {},
   "outputs": [],
   "source": []
  },
  {
   "cell_type": "code",
   "execution_count": null,
   "metadata": {},
   "outputs": [],
   "source": []
  }
 ],
 "metadata": {
  "kernelspec": {
   "display_name": "Python 3",
   "language": "python",
   "name": "python3"
  },
  "language_info": {
   "codemirror_mode": {
    "name": "ipython",
    "version": 3
   },
   "file_extension": ".py",
   "mimetype": "text/x-python",
   "name": "python",
   "nbconvert_exporter": "python",
   "pygments_lexer": "ipython3",
   "version": "3.6.10"
  }
 },
 "nbformat": 4,
 "nbformat_minor": 4
}
