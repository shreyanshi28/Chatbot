{
 "cells": [
  {
   "cell_type": "code",
   "execution_count": 1,
   "metadata": {},
   "outputs": [],
   "source": [
    "import json"
   ]
  },
  {
   "cell_type": "code",
   "execution_count": 2,
   "metadata": {},
   "outputs": [],
   "source": [
    "import pandas as pd\n",
    "df = pd.read_json ('nfl6.json')\n",
    "df.to_csv ('text.csv', index = None)"
   ]
  },
  {
   "cell_type": "code",
   "execution_count": 3,
   "metadata": {},
   "outputs": [],
   "source": [
    "text = pd.read_csv(\"text.csv\")"
   ]
  },
  {
   "cell_type": "code",
   "execution_count": 4,
   "metadata": {},
   "outputs": [
    {
     "data": {
      "text/html": [
       "<div>\n",
       "<style scoped>\n",
       "    .dataframe tbody tr th:only-of-type {\n",
       "        vertical-align: middle;\n",
       "    }\n",
       "\n",
       "    .dataframe tbody tr th {\n",
       "        vertical-align: top;\n",
       "    }\n",
       "\n",
       "    .dataframe thead th {\n",
       "        text-align: right;\n",
       "    }\n",
       "</style>\n",
       "<table border=\"1\" class=\"dataframe\">\n",
       "  <thead>\n",
       "    <tr style=\"text-align: right;\">\n",
       "      <th></th>\n",
       "      <th>main_category</th>\n",
       "      <th>question</th>\n",
       "      <th>nbestanswers</th>\n",
       "      <th>answer</th>\n",
       "      <th>id</th>\n",
       "    </tr>\n",
       "  </thead>\n",
       "  <tbody>\n",
       "    <tr>\n",
       "      <th>0</th>\n",
       "      <td>News &amp; Events</td>\n",
       "      <td>Why did the U.S Invade Iraq ?</td>\n",
       "      <td>[\"A small group of politicians believed strong...</td>\n",
       "      <td>A small group of politicians believed strongly...</td>\n",
       "      <td>2020338</td>\n",
       "    </tr>\n",
       "    <tr>\n",
       "      <th>1</th>\n",
       "      <td>Education &amp; Reference</td>\n",
       "      <td>How to get rid of a beehive?</td>\n",
       "      <td>['Call an area apiarist.  They should be able ...</td>\n",
       "      <td>Call an area apiarist.  They should be able to...</td>\n",
       "      <td>2874684</td>\n",
       "    </tr>\n",
       "    <tr>\n",
       "      <th>2</th>\n",
       "      <td>Society &amp; Culture</td>\n",
       "      <td>Why don't European restaurants serve water?</td>\n",
       "      <td>[\"There's a general belief in Europe (and in f...</td>\n",
       "      <td>There's a general belief in Europe (and in fac...</td>\n",
       "      <td>4193114</td>\n",
       "    </tr>\n",
       "    <tr>\n",
       "      <th>3</th>\n",
       "      <td>Cars &amp; Transportation</td>\n",
       "      <td>Why hybrid cars gas mileage is better in city ?</td>\n",
       "      <td>[\"hybrid cars save energy in two ways: 1.by st...</td>\n",
       "      <td>hybrid cars save energy in two ways: 1.by stor...</td>\n",
       "      <td>1908421</td>\n",
       "    </tr>\n",
       "    <tr>\n",
       "      <th>4</th>\n",
       "      <td>Science &amp; Mathematics</td>\n",
       "      <td>Can someone explain the theory of e=mc2?</td>\n",
       "      <td>['In general it means that in a very high spee...</td>\n",
       "      <td>In general it means that in a very high speed ...</td>\n",
       "      <td>3608897</td>\n",
       "    </tr>\n",
       "    <tr>\n",
       "      <th>...</th>\n",
       "      <td>...</td>\n",
       "      <td>...</td>\n",
       "      <td>...</td>\n",
       "      <td>...</td>\n",
       "      <td>...</td>\n",
       "    </tr>\n",
       "    <tr>\n",
       "      <th>87357</th>\n",
       "      <td>Education &amp; Reference</td>\n",
       "      <td>How did the phrase \"(someone) has gone missing...</td>\n",
       "      <td>['I think it\\'s strange, too.. It sounds very ...</td>\n",
       "      <td>I think it's strange, too.. It sounds very col...</td>\n",
       "      <td>1134376</td>\n",
       "    </tr>\n",
       "    <tr>\n",
       "      <th>87358</th>\n",
       "      <td>Society &amp; Culture</td>\n",
       "      <td>Why in the world do I have to press 1 to get E...</td>\n",
       "      <td>['Because there are some Spanish people. If it...</td>\n",
       "      <td>Because there are some Spanish people. If it a...</td>\n",
       "      <td>945182</td>\n",
       "    </tr>\n",
       "    <tr>\n",
       "      <th>87359</th>\n",
       "      <td>Science &amp; Mathematics</td>\n",
       "      <td>Why chemicals should never be placed directly ...</td>\n",
       "      <td>['Because chemicals react with eachother, it i...</td>\n",
       "      <td>Because chemicals react with eachother, it is ...</td>\n",
       "      <td>3433624</td>\n",
       "    </tr>\n",
       "    <tr>\n",
       "      <th>87360</th>\n",
       "      <td>Arts &amp; Humanities</td>\n",
       "      <td>what do you consider..........?</td>\n",
       "      <td>[\"Never allow people to Ride on you.. Don't mi...</td>\n",
       "      <td>treat others as you want to be treated. becaus...</td>\n",
       "      <td>2900989</td>\n",
       "    </tr>\n",
       "    <tr>\n",
       "      <th>87361</th>\n",
       "      <td>Business &amp; Finance</td>\n",
       "      <td>How can I finance investment property?</td>\n",
       "      <td>['If you own your home, take a home equity loa...</td>\n",
       "      <td>You could try to get the owners of the propert...</td>\n",
       "      <td>1424320</td>\n",
       "    </tr>\n",
       "  </tbody>\n",
       "</table>\n",
       "<p>87362 rows × 5 columns</p>\n",
       "</div>"
      ],
      "text/plain": [
       "               main_category  \\\n",
       "0              News & Events   \n",
       "1      Education & Reference   \n",
       "2          Society & Culture   \n",
       "3      Cars & Transportation   \n",
       "4      Science & Mathematics   \n",
       "...                      ...   \n",
       "87357  Education & Reference   \n",
       "87358      Society & Culture   \n",
       "87359  Science & Mathematics   \n",
       "87360      Arts & Humanities   \n",
       "87361     Business & Finance   \n",
       "\n",
       "                                                question  \\\n",
       "0                          Why did the U.S Invade Iraq ?   \n",
       "1                           How to get rid of a beehive?   \n",
       "2            Why don't European restaurants serve water?   \n",
       "3        Why hybrid cars gas mileage is better in city ?   \n",
       "4               Can someone explain the theory of e=mc2?   \n",
       "...                                                  ...   \n",
       "87357  How did the phrase \"(someone) has gone missing...   \n",
       "87358  Why in the world do I have to press 1 to get E...   \n",
       "87359  Why chemicals should never be placed directly ...   \n",
       "87360                    what do you consider..........?   \n",
       "87361             How can I finance investment property?   \n",
       "\n",
       "                                            nbestanswers  \\\n",
       "0      [\"A small group of politicians believed strong...   \n",
       "1      ['Call an area apiarist.  They should be able ...   \n",
       "2      [\"There's a general belief in Europe (and in f...   \n",
       "3      [\"hybrid cars save energy in two ways: 1.by st...   \n",
       "4      ['In general it means that in a very high spee...   \n",
       "...                                                  ...   \n",
       "87357  ['I think it\\'s strange, too.. It sounds very ...   \n",
       "87358  ['Because there are some Spanish people. If it...   \n",
       "87359  ['Because chemicals react with eachother, it i...   \n",
       "87360  [\"Never allow people to Ride on you.. Don't mi...   \n",
       "87361  ['If you own your home, take a home equity loa...   \n",
       "\n",
       "                                                  answer       id  \n",
       "0      A small group of politicians believed strongly...  2020338  \n",
       "1      Call an area apiarist.  They should be able to...  2874684  \n",
       "2      There's a general belief in Europe (and in fac...  4193114  \n",
       "3      hybrid cars save energy in two ways: 1.by stor...  1908421  \n",
       "4      In general it means that in a very high speed ...  3608897  \n",
       "...                                                  ...      ...  \n",
       "87357  I think it's strange, too.. It sounds very col...  1134376  \n",
       "87358  Because there are some Spanish people. If it a...   945182  \n",
       "87359  Because chemicals react with eachother, it is ...  3433624  \n",
       "87360  treat others as you want to be treated. becaus...  2900989  \n",
       "87361  You could try to get the owners of the propert...  1424320  \n",
       "\n",
       "[87362 rows x 5 columns]"
      ]
     },
     "execution_count": 4,
     "metadata": {},
     "output_type": "execute_result"
    }
   ],
   "source": [
    "text"
   ]
  },
  {
   "cell_type": "code",
   "execution_count": 5,
   "metadata": {},
   "outputs": [
    {
     "data": {
      "text/plain": [
       "\"There's a general belief in Europe (and in fact elsewhere in the world, such as China) that it's unhealthy to drink water with a meal because it dilutes the digestive juices. Wine is OK because it stimulates digestion, and mineral waters are also considered digestives.. . In general, Europeans are much more concerned with the digestive process than Americans.\""
      ]
     },
     "execution_count": 5,
     "metadata": {},
     "output_type": "execute_result"
    }
   ],
   "source": [
    "text['answer'][2]"
   ]
  },
  {
   "cell_type": "code",
   "execution_count": 6,
   "metadata": {},
   "outputs": [],
   "source": [
    "import nltk\n",
    "from nltk.stem import WordNetLemmatizer\n",
    "import  re"
   ]
  },
  {
   "cell_type": "code",
   "execution_count": 7,
   "metadata": {},
   "outputs": [
    {
     "data": {
      "text/plain": [
       "array(['News & Events', 'Education & Reference', 'Society & Culture',\n",
       "       'Cars & Transportation', 'Science & Mathematics',\n",
       "       'Politics & Government', 'Pets', 'Food & Drink',\n",
       "       'Business & Finance', 'Computers & Internet', 'Games & Recreation',\n",
       "       'Health', 'Travel', 'Social Science', 'Yahoo! Products',\n",
       "       'Consumer Electronics', 'Arts & Humanities', 'Dining Out',\n",
       "       'Local Businesses', 'Asia Pacific', 'Yahoo!7 Products'],\n",
       "      dtype=object)"
      ]
     },
     "execution_count": 7,
     "metadata": {},
     "output_type": "execute_result"
    }
   ],
   "source": [
    "text['main_category'].unique()\n"
   ]
  },
  {
   "cell_type": "code",
   "execution_count": 8,
   "metadata": {},
   "outputs": [],
   "source": [
    "text.drop(text[text['main_category'] == \"Health\"].index, inplace = True) \n",
    "text.drop(text[text['main_category'] == \"News & events\"].index, inplace = True) \n",
    "text.drop(text[text['main_category'] == \"Cars & Transportation\"].index, inplace = True) \n",
    "text.drop(text[text['main_category'] == \"Pets\"].index, inplace = True) "
   ]
  },
  {
   "cell_type": "code",
   "execution_count": 9,
   "metadata": {},
   "outputs": [],
   "source": [
    "text.drop(text[text['main_category'] == \"Asia Pacific\"].index, inplace = True) \n",
    "text.drop(text[text['main_category'] == \"Consumer Electronics\"].index, inplace = True)\n",
    "text.drop(text[text['main_category'] == \"Local Businesses\"].index, inplace = True)\n"
   ]
  },
  {
   "cell_type": "code",
   "execution_count": 10,
   "metadata": {},
   "outputs": [],
   "source": [
    "text.drop(text[text['main_category'] == \"Yahoo! Products\"].index, inplace = True)\n",
    "text.drop(text[text['main_category'] == \"Dining Out\"].index, inplace = True)\n",
    "text.drop(text[text['main_category'] == \"Games & Recreation\"].index, inplace = True)\n"
   ]
  },
  {
   "cell_type": "code",
   "execution_count": 11,
   "metadata": {},
   "outputs": [],
   "source": [
    "text.drop(text[text['main_category'] == \"Yahoo!7 Products\"].index, inplace = True) \n",
    "text.drop(text[text['main_category'] == \"News & Events\"].index, inplace = True) \n",
    "text.drop(text[text['main_category'] == \"Business & Finance\"].index, inplace = True)"
   ]
  },
  {
   "cell_type": "code",
   "execution_count": 12,
   "metadata": {},
   "outputs": [],
   "source": [
    "text.drop(text[text['main_category'] == \"Politics & Government\"].index, inplace = True)\n",
    "text.drop(text[text['main_category'] == \"Science & Mathematics\"].index, inplace = True)\n",
    "text.drop(text[text['main_category'] == \"Education & Reference\"].index, inplace = True)"
   ]
  },
  {
   "cell_type": "code",
   "execution_count": 13,
   "metadata": {},
   "outputs": [],
   "source": [
    "text.drop(text[text['main_category'] == \"Computers & Internet\"].index, inplace = True)"
   ]
  },
  {
   "cell_type": "code",
   "execution_count": 14,
   "metadata": {},
   "outputs": [
    {
     "data": {
      "text/plain": [
       "array(['Society & Culture', 'Food & Drink', 'Travel', 'Social Science',\n",
       "       'Arts & Humanities'], dtype=object)"
      ]
     },
     "execution_count": 14,
     "metadata": {},
     "output_type": "execute_result"
    }
   ],
   "source": [
    "text['main_category'].unique()"
   ]
  },
  {
   "cell_type": "code",
   "execution_count": 15,
   "metadata": {},
   "outputs": [
    {
     "data": {
      "text/plain": [
       "count                 18110\n",
       "unique                    5\n",
       "top       Society & Culture\n",
       "freq                   8651\n",
       "Name: main_category, dtype: object"
      ]
     },
     "execution_count": 15,
     "metadata": {},
     "output_type": "execute_result"
    }
   ],
   "source": [
    "text['main_category'].describe()"
   ]
  },
  {
   "cell_type": "code",
   "execution_count": 16,
   "metadata": {},
   "outputs": [],
   "source": [
    "text = text.drop('id',axis=1)"
   ]
  },
  {
   "cell_type": "code",
   "execution_count": 17,
   "metadata": {},
   "outputs": [],
   "source": [
    "text = text.drop('question',axis=1)"
   ]
  },
  {
   "cell_type": "code",
   "execution_count": 18,
   "metadata": {
    "scrolled": true
   },
   "outputs": [
    {
     "data": {
      "text/html": [
       "<div>\n",
       "<style scoped>\n",
       "    .dataframe tbody tr th:only-of-type {\n",
       "        vertical-align: middle;\n",
       "    }\n",
       "\n",
       "    .dataframe tbody tr th {\n",
       "        vertical-align: top;\n",
       "    }\n",
       "\n",
       "    .dataframe thead th {\n",
       "        text-align: right;\n",
       "    }\n",
       "</style>\n",
       "<table border=\"1\" class=\"dataframe\">\n",
       "  <thead>\n",
       "    <tr style=\"text-align: right;\">\n",
       "      <th></th>\n",
       "      <th>main_category</th>\n",
       "      <th>nbestanswers</th>\n",
       "      <th>answer</th>\n",
       "    </tr>\n",
       "  </thead>\n",
       "  <tbody>\n",
       "    <tr>\n",
       "      <th>2</th>\n",
       "      <td>Society &amp; Culture</td>\n",
       "      <td>[\"There's a general belief in Europe (and in f...</td>\n",
       "      <td>There's a general belief in Europe (and in fac...</td>\n",
       "    </tr>\n",
       "    <tr>\n",
       "      <th>9</th>\n",
       "      <td>Food &amp; Drink</td>\n",
       "      <td>['Fill a large pot with 1/4 full of water or j...</td>\n",
       "      <td>Fill a large pot with 1/4 full of water or jus...</td>\n",
       "    </tr>\n",
       "    <tr>\n",
       "      <th>11</th>\n",
       "      <td>Food &amp; Drink</td>\n",
       "      <td>[\"Knock on the watermelon (just like you would...</td>\n",
       "      <td>Knock on the watermelon (just like you would k...</td>\n",
       "    </tr>\n",
       "    <tr>\n",
       "      <th>12</th>\n",
       "      <td>Food &amp; Drink</td>\n",
       "      <td>['Tougher cuts or meat with more fat. These cu...</td>\n",
       "      <td>Tougher cuts or meat with more fat. These cuts...</td>\n",
       "    </tr>\n",
       "    <tr>\n",
       "      <th>13</th>\n",
       "      <td>Society &amp; Culture</td>\n",
       "      <td>['Possibly because African royalty used umbrel...</td>\n",
       "      <td>Possibly because African royalty used umbrella...</td>\n",
       "    </tr>\n",
       "    <tr>\n",
       "      <th>...</th>\n",
       "      <td>...</td>\n",
       "      <td>...</td>\n",
       "      <td>...</td>\n",
       "    </tr>\n",
       "    <tr>\n",
       "      <th>87349</th>\n",
       "      <td>Travel</td>\n",
       "      <td>['greyhound nothing cheaper', 'ship/ferry', 'c...</td>\n",
       "      <td>Airplane. It is the quickest and most cost eff...</td>\n",
       "    </tr>\n",
       "    <tr>\n",
       "      <th>87354</th>\n",
       "      <td>Food &amp; Drink</td>\n",
       "      <td>['The lemons from my tree at home are just as ...</td>\n",
       "      <td>The lemons from my tree at home are just as so...</td>\n",
       "    </tr>\n",
       "    <tr>\n",
       "      <th>87356</th>\n",
       "      <td>Food &amp; Drink</td>\n",
       "      <td>['You need a lot of money before u can even th...</td>\n",
       "      <td>Check with the American Consulate, and hopeful...</td>\n",
       "    </tr>\n",
       "    <tr>\n",
       "      <th>87358</th>\n",
       "      <td>Society &amp; Culture</td>\n",
       "      <td>['Because there are some Spanish people. If it...</td>\n",
       "      <td>Because there are some Spanish people. If it a...</td>\n",
       "    </tr>\n",
       "    <tr>\n",
       "      <th>87360</th>\n",
       "      <td>Arts &amp; Humanities</td>\n",
       "      <td>[\"Never allow people to Ride on you.. Don't mi...</td>\n",
       "      <td>treat others as you want to be treated. becaus...</td>\n",
       "    </tr>\n",
       "  </tbody>\n",
       "</table>\n",
       "<p>18110 rows × 3 columns</p>\n",
       "</div>"
      ],
      "text/plain": [
       "           main_category                                       nbestanswers  \\\n",
       "2      Society & Culture  [\"There's a general belief in Europe (and in f...   \n",
       "9           Food & Drink  ['Fill a large pot with 1/4 full of water or j...   \n",
       "11          Food & Drink  [\"Knock on the watermelon (just like you would...   \n",
       "12          Food & Drink  ['Tougher cuts or meat with more fat. These cu...   \n",
       "13     Society & Culture  ['Possibly because African royalty used umbrel...   \n",
       "...                  ...                                                ...   \n",
       "87349             Travel  ['greyhound nothing cheaper', 'ship/ferry', 'c...   \n",
       "87354       Food & Drink  ['The lemons from my tree at home are just as ...   \n",
       "87356       Food & Drink  ['You need a lot of money before u can even th...   \n",
       "87358  Society & Culture  ['Because there are some Spanish people. If it...   \n",
       "87360  Arts & Humanities  [\"Never allow people to Ride on you.. Don't mi...   \n",
       "\n",
       "                                                  answer  \n",
       "2      There's a general belief in Europe (and in fac...  \n",
       "9      Fill a large pot with 1/4 full of water or jus...  \n",
       "11     Knock on the watermelon (just like you would k...  \n",
       "12     Tougher cuts or meat with more fat. These cuts...  \n",
       "13     Possibly because African royalty used umbrella...  \n",
       "...                                                  ...  \n",
       "87349  Airplane. It is the quickest and most cost eff...  \n",
       "87354  The lemons from my tree at home are just as so...  \n",
       "87356  Check with the American Consulate, and hopeful...  \n",
       "87358  Because there are some Spanish people. If it a...  \n",
       "87360  treat others as you want to be treated. becaus...  \n",
       "\n",
       "[18110 rows x 3 columns]"
      ]
     },
     "execution_count": 18,
     "metadata": {},
     "output_type": "execute_result"
    }
   ],
   "source": [
    "text"
   ]
  },
  {
   "cell_type": "code",
   "execution_count": 19,
   "metadata": {},
   "outputs": [],
   "source": [
    "text = text.reset_index()"
   ]
  },
  {
   "cell_type": "code",
   "execution_count": 20,
   "metadata": {},
   "outputs": [],
   "source": [
    "lemmer = WordNetLemmatizer()\n",
    "corpus_ans = []\n",
    "for i in range(0, len(text)):\n",
    "    ans = re.sub(r'\\[[0-9]*\\]', ' ', text['answer'][i])\n",
    "    ans = re.sub('[^a-zA-Z]', ' ', text['answer'][i])\n",
    "    ans = re.sub(r'\\n', '', text['answer'][i])\n",
    "    ans = ans.lower()\n",
    "    ans = ans.split()\n",
    "    ans = [lemmer.lemmatize(word) for word in ans]\n",
    "    ans = ' '.join(ans)\n",
    "    corpus_ans.append(ans)"
   ]
  },
  {
   "cell_type": "code",
   "execution_count": 21,
   "metadata": {},
   "outputs": [
    {
     "data": {
      "text/plain": [
       "[\"there's a general belief in europe (and in fact elsewhere in the world, such a china) that it's unhealthy to drink water with a meal because it dilutes the digestive juices. wine is ok because it stimulates digestion, and mineral water are also considered digestives.. . in general, european are much more concerned with the digestive process than americans.\",\n",
       " 'fill a large pot with 1/4 full of water or just enough to cover your lobster and add a generous handful of salt. when it come to a boil, put the lobster in the pot head first. then boil for 18 for the first pound and 10 minute more for each additional pound. for lobster over 7 pounds, 8 minute per additional pound is enough.',\n",
       " \"knock on the watermelon (just like you would knock on a door). if it sound hollow, it's ripe.\",\n",
       " 'tougher cut or meat with more fat. these cut will stay juicy and become tender from the long, slow cooking time. pork loin is not the best choice for slow cookers.',\n",
       " 'possibly because african royalty used umbrella a protection from the sun, and opening one in the shade wa considered an insult to the sun god. opening it indoors wa also taboo.',\n",
       " 'bubble tea is a drink that is a mix of tea, milk, sugar, and giant black tapioca balls. the \"bubble\" refers to the foam created by shaking the freshly brewed tea with ice. it is also called boba tea, tapioca tea, boba nai cha, pearl tea, milk tea, bubble drink, zhen zhu nai cha, tapioca pearl drink, momi, momus milk tea, qq, etc.',\n",
       " \"eggnog is a popular wintertime drink. we do not serve eggnog only during christmas. it is also popular on new year's day and some serve it on thanksgiving.\",\n",
       " \"european butter ha a higher percentage of butterfat. that's why they smell so yummy, e.g. plugras.\",\n",
       " 'salt is traditionally added to the rim of the glass to provide a sharp contrast in flavor to better experience the drink a a whole.. the difference in the salt and the sugar content in the alcohol help to stimulate all of your tastebuds, which are divided into sector based on the type of sensation.. take caution to not over-salt the rim of the glass and thus coat only the outside portion of the rim around 1/4\"... getting salt on the inside of the glass risk modifying the flavor of the drink.',\n",
       " \"parkway doesn't refer to parking a car, it refers to the greenery or parkland landscape next to the road.. . the driveway isn't necessarily meant for parking a car, though many people do. it is the path you drive up to get to the house.\"]"
      ]
     },
     "execution_count": 21,
     "metadata": {},
     "output_type": "execute_result"
    }
   ],
   "source": [
    "corpus_ans[0:10]"
   ]
  },
  {
   "cell_type": "code",
   "execution_count": 22,
   "metadata": {},
   "outputs": [],
   "source": [
    "text['answer'] = corpus_ans"
   ]
  },
  {
   "cell_type": "code",
   "execution_count": 23,
   "metadata": {},
   "outputs": [
    {
     "data": {
      "text/html": [
       "<div>\n",
       "<style scoped>\n",
       "    .dataframe tbody tr th:only-of-type {\n",
       "        vertical-align: middle;\n",
       "    }\n",
       "\n",
       "    .dataframe tbody tr th {\n",
       "        vertical-align: top;\n",
       "    }\n",
       "\n",
       "    .dataframe thead th {\n",
       "        text-align: right;\n",
       "    }\n",
       "</style>\n",
       "<table border=\"1\" class=\"dataframe\">\n",
       "  <thead>\n",
       "    <tr style=\"text-align: right;\">\n",
       "      <th></th>\n",
       "      <th>index</th>\n",
       "      <th>main_category</th>\n",
       "      <th>nbestanswers</th>\n",
       "      <th>answer</th>\n",
       "    </tr>\n",
       "  </thead>\n",
       "  <tbody>\n",
       "    <tr>\n",
       "      <th>0</th>\n",
       "      <td>2</td>\n",
       "      <td>Society &amp; Culture</td>\n",
       "      <td>[\"There's a general belief in Europe (and in f...</td>\n",
       "      <td>there's a general belief in europe (and in fac...</td>\n",
       "    </tr>\n",
       "    <tr>\n",
       "      <th>1</th>\n",
       "      <td>9</td>\n",
       "      <td>Food &amp; Drink</td>\n",
       "      <td>['Fill a large pot with 1/4 full of water or j...</td>\n",
       "      <td>fill a large pot with 1/4 full of water or jus...</td>\n",
       "    </tr>\n",
       "    <tr>\n",
       "      <th>2</th>\n",
       "      <td>11</td>\n",
       "      <td>Food &amp; Drink</td>\n",
       "      <td>[\"Knock on the watermelon (just like you would...</td>\n",
       "      <td>knock on the watermelon (just like you would k...</td>\n",
       "    </tr>\n",
       "    <tr>\n",
       "      <th>3</th>\n",
       "      <td>12</td>\n",
       "      <td>Food &amp; Drink</td>\n",
       "      <td>['Tougher cuts or meat with more fat. These cu...</td>\n",
       "      <td>tougher cut or meat with more fat. these cut w...</td>\n",
       "    </tr>\n",
       "    <tr>\n",
       "      <th>4</th>\n",
       "      <td>13</td>\n",
       "      <td>Society &amp; Culture</td>\n",
       "      <td>['Possibly because African royalty used umbrel...</td>\n",
       "      <td>possibly because african royalty used umbrella...</td>\n",
       "    </tr>\n",
       "    <tr>\n",
       "      <th>...</th>\n",
       "      <td>...</td>\n",
       "      <td>...</td>\n",
       "      <td>...</td>\n",
       "      <td>...</td>\n",
       "    </tr>\n",
       "    <tr>\n",
       "      <th>18105</th>\n",
       "      <td>87349</td>\n",
       "      <td>Travel</td>\n",
       "      <td>['greyhound nothing cheaper', 'ship/ferry', 'c...</td>\n",
       "      <td>airplane. it is the quickest and most cost eff...</td>\n",
       "    </tr>\n",
       "    <tr>\n",
       "      <th>18106</th>\n",
       "      <td>87354</td>\n",
       "      <td>Food &amp; Drink</td>\n",
       "      <td>['The lemons from my tree at home are just as ...</td>\n",
       "      <td>the lemon from my tree at home are just a sour...</td>\n",
       "    </tr>\n",
       "    <tr>\n",
       "      <th>18107</th>\n",
       "      <td>87356</td>\n",
       "      <td>Food &amp; Drink</td>\n",
       "      <td>['You need a lot of money before u can even th...</td>\n",
       "      <td>check with the american consulate, and hopeful...</td>\n",
       "    </tr>\n",
       "    <tr>\n",
       "      <th>18108</th>\n",
       "      <td>87358</td>\n",
       "      <td>Society &amp; Culture</td>\n",
       "      <td>['Because there are some Spanish people. If it...</td>\n",
       "      <td>because there are some spanish people. if it a...</td>\n",
       "    </tr>\n",
       "    <tr>\n",
       "      <th>18109</th>\n",
       "      <td>87360</td>\n",
       "      <td>Arts &amp; Humanities</td>\n",
       "      <td>[\"Never allow people to Ride on you.. Don't mi...</td>\n",
       "      <td>treat others a you want to be treated. because...</td>\n",
       "    </tr>\n",
       "  </tbody>\n",
       "</table>\n",
       "<p>18110 rows × 4 columns</p>\n",
       "</div>"
      ],
      "text/plain": [
       "       index      main_category  \\\n",
       "0          2  Society & Culture   \n",
       "1          9       Food & Drink   \n",
       "2         11       Food & Drink   \n",
       "3         12       Food & Drink   \n",
       "4         13  Society & Culture   \n",
       "...      ...                ...   \n",
       "18105  87349             Travel   \n",
       "18106  87354       Food & Drink   \n",
       "18107  87356       Food & Drink   \n",
       "18108  87358  Society & Culture   \n",
       "18109  87360  Arts & Humanities   \n",
       "\n",
       "                                            nbestanswers  \\\n",
       "0      [\"There's a general belief in Europe (and in f...   \n",
       "1      ['Fill a large pot with 1/4 full of water or j...   \n",
       "2      [\"Knock on the watermelon (just like you would...   \n",
       "3      ['Tougher cuts or meat with more fat. These cu...   \n",
       "4      ['Possibly because African royalty used umbrel...   \n",
       "...                                                  ...   \n",
       "18105  ['greyhound nothing cheaper', 'ship/ferry', 'c...   \n",
       "18106  ['The lemons from my tree at home are just as ...   \n",
       "18107  ['You need a lot of money before u can even th...   \n",
       "18108  ['Because there are some Spanish people. If it...   \n",
       "18109  [\"Never allow people to Ride on you.. Don't mi...   \n",
       "\n",
       "                                                  answer  \n",
       "0      there's a general belief in europe (and in fac...  \n",
       "1      fill a large pot with 1/4 full of water or jus...  \n",
       "2      knock on the watermelon (just like you would k...  \n",
       "3      tougher cut or meat with more fat. these cut w...  \n",
       "4      possibly because african royalty used umbrella...  \n",
       "...                                                  ...  \n",
       "18105  airplane. it is the quickest and most cost eff...  \n",
       "18106  the lemon from my tree at home are just a sour...  \n",
       "18107  check with the american consulate, and hopeful...  \n",
       "18108  because there are some spanish people. if it a...  \n",
       "18109  treat others a you want to be treated. because...  \n",
       "\n",
       "[18110 rows x 4 columns]"
      ]
     },
     "execution_count": 23,
     "metadata": {},
     "output_type": "execute_result"
    }
   ],
   "source": [
    "text"
   ]
  },
  {
   "cell_type": "code",
   "execution_count": 24,
   "metadata": {},
   "outputs": [],
   "source": [
    "text = text.drop('index',axis=1)\n",
    "text = text.drop('nbestanswers',axis=1)\n",
    "text = text.drop('main_category',axis=1)"
   ]
  },
  {
   "cell_type": "code",
   "execution_count": 25,
   "metadata": {},
   "outputs": [],
   "source": [
    "text.to_csv(\"new2.csv\",index=False)"
   ]
  },
  {
   "cell_type": "code",
   "execution_count": 26,
   "metadata": {},
   "outputs": [],
   "source": [
    "df = pd.read_csv(\"new2.csv\")"
   ]
  },
  {
   "cell_type": "code",
   "execution_count": 27,
   "metadata": {},
   "outputs": [
    {
     "data": {
      "text/html": [
       "<div>\n",
       "<style scoped>\n",
       "    .dataframe tbody tr th:only-of-type {\n",
       "        vertical-align: middle;\n",
       "    }\n",
       "\n",
       "    .dataframe tbody tr th {\n",
       "        vertical-align: top;\n",
       "    }\n",
       "\n",
       "    .dataframe thead th {\n",
       "        text-align: right;\n",
       "    }\n",
       "</style>\n",
       "<table border=\"1\" class=\"dataframe\">\n",
       "  <thead>\n",
       "    <tr style=\"text-align: right;\">\n",
       "      <th></th>\n",
       "      <th>answer</th>\n",
       "    </tr>\n",
       "  </thead>\n",
       "  <tbody>\n",
       "    <tr>\n",
       "      <th>0</th>\n",
       "      <td>there's a general belief in europe (and in fac...</td>\n",
       "    </tr>\n",
       "    <tr>\n",
       "      <th>1</th>\n",
       "      <td>fill a large pot with 1/4 full of water or jus...</td>\n",
       "    </tr>\n",
       "    <tr>\n",
       "      <th>2</th>\n",
       "      <td>knock on the watermelon (just like you would k...</td>\n",
       "    </tr>\n",
       "    <tr>\n",
       "      <th>3</th>\n",
       "      <td>tougher cut or meat with more fat. these cut w...</td>\n",
       "    </tr>\n",
       "    <tr>\n",
       "      <th>4</th>\n",
       "      <td>possibly because african royalty used umbrella...</td>\n",
       "    </tr>\n",
       "    <tr>\n",
       "      <th>...</th>\n",
       "      <td>...</td>\n",
       "    </tr>\n",
       "    <tr>\n",
       "      <th>18105</th>\n",
       "      <td>airplane. it is the quickest and most cost eff...</td>\n",
       "    </tr>\n",
       "    <tr>\n",
       "      <th>18106</th>\n",
       "      <td>the lemon from my tree at home are just a sour...</td>\n",
       "    </tr>\n",
       "    <tr>\n",
       "      <th>18107</th>\n",
       "      <td>check with the american consulate, and hopeful...</td>\n",
       "    </tr>\n",
       "    <tr>\n",
       "      <th>18108</th>\n",
       "      <td>because there are some spanish people. if it a...</td>\n",
       "    </tr>\n",
       "    <tr>\n",
       "      <th>18109</th>\n",
       "      <td>treat others a you want to be treated. because...</td>\n",
       "    </tr>\n",
       "  </tbody>\n",
       "</table>\n",
       "<p>18110 rows × 1 columns</p>\n",
       "</div>"
      ],
      "text/plain": [
       "                                                  answer\n",
       "0      there's a general belief in europe (and in fac...\n",
       "1      fill a large pot with 1/4 full of water or jus...\n",
       "2      knock on the watermelon (just like you would k...\n",
       "3      tougher cut or meat with more fat. these cut w...\n",
       "4      possibly because african royalty used umbrella...\n",
       "...                                                  ...\n",
       "18105  airplane. it is the quickest and most cost eff...\n",
       "18106  the lemon from my tree at home are just a sour...\n",
       "18107  check with the american consulate, and hopeful...\n",
       "18108  because there are some spanish people. if it a...\n",
       "18109  treat others a you want to be treated. because...\n",
       "\n",
       "[18110 rows x 1 columns]"
      ]
     },
     "execution_count": 27,
     "metadata": {},
     "output_type": "execute_result"
    }
   ],
   "source": [
    "df"
   ]
  },
  {
   "cell_type": "code",
   "execution_count": 28,
   "metadata": {},
   "outputs": [],
   "source": [
    "f=open('new8.txt','r',errors = 'ignore')\n",
    "raw=f.read()"
   ]
  },
  {
   "cell_type": "code",
   "execution_count": 29,
   "metadata": {},
   "outputs": [],
   "source": [
    "sent_tokens = nltk.sent_tokenize(raw)\n",
    "word_tokens = nltk.word_tokenize(raw)"
   ]
  },
  {
   "cell_type": "code",
   "execution_count": 30,
   "metadata": {},
   "outputs": [],
   "source": [
    "import string"
   ]
  },
  {
   "cell_type": "code",
   "execution_count": 31,
   "metadata": {},
   "outputs": [],
   "source": [
    "from sklearn.metrics.pairwise import cosine_similarity\n",
    "from sklearn.feature_extraction.text import TfidfVectorizer\n"
   ]
  },
  {
   "cell_type": "code",
   "execution_count": 32,
   "metadata": {},
   "outputs": [],
   "source": [
    "GREETING_INPUTS = (\"hello\", \"hi\", \"greetings\", \"sup\", \"what's up\",\"hey\",\"How are you?\")\n",
    "GREETING_RESPONSES = [\"hi\", \"hey\", \"*nods*\", \"hi there\", \"hello\", \"I am glad! You are talking to me\"]\n",
    "def greeting(sentence):\n",
    " \n",
    "    for word in sentence.split():\n",
    "        if word.lower() in GREETING_INPUTS:\n",
    "            return random.choice(GREETING_RESPONSES)"
   ]
  },
  {
   "cell_type": "code",
   "execution_count": 33,
   "metadata": {},
   "outputs": [],
   "source": [
    "import random"
   ]
  },
  {
   "cell_type": "code",
   "execution_count": 34,
   "metadata": {},
   "outputs": [],
   "source": [
    "def response(user_response):\n",
    "    bot_response=''\n",
    "    sent_tokens.append(user_response)\n",
    "    TfidfVec = TfidfVectorizer()\n",
    "    tfidf = TfidfVec.fit_transform(sent_tokens)\n",
    "    vals = cosine_similarity(tfidf[-1], tfidf)\n",
    "    idx=vals.argsort()[0][-2]\n",
    "    flat = vals.flatten()\n",
    "    flat.sort()\n",
    "    req_tfidf = flat[-2]\n",
    "    if(req_tfidf==0):\n",
    "        bot_response=bot_response+\"Rephrase it into simpler words!\"\n",
    "        return bot_response\n",
    "    else:\n",
    "        bot_response = bot_response+sent_tokens[idx]\n",
    "        return bot_response"
   ]
  },
  {
   "cell_type": "code",
   "execution_count": 36,
   "metadata": {},
   "outputs": [
    {
     "name": "stdout",
     "output_type": "stream",
     "text": [
      "BOT: Let's talk! Keep the questions short. If you want to exit, type Bye!\n",
      "You : Hello\n",
      "BOT : hi there\n",
      "You : How are you\n",
      "BOT: how are you ?\"\n",
      "You : Fine\n",
      "BOT: you will fine.\n",
      "You : Okay\n",
      "BOT: okay?\n",
      "You : Yes\n",
      "BOT: \"yes.\n",
      "You : Right\n",
      "BOT: right?\n",
      "You : You got it correct\n",
      "BOT: you got it!\n",
      "You : Life\n",
      "BOT: that's life.. .\n",
      "You : Interesting phrases\n",
      "BOT: \"interesting.. .\n",
      "You : Bye\n",
      "BOT: Bye! It was an interesting conversation.\n"
     ]
    }
   ],
   "source": [
    "flag=True\n",
    "print(\"BOT: Let's talk! Keep the questions short. If you want to exit, type Bye!\")\n",
    "while(flag==True):\n",
    "    user_response = input('You : ')\n",
    "    user_response=user_response.lower()\n",
    "    if(user_response!='bye'):\n",
    "        if(user_response=='thanks' or user_response=='thank you' ):\n",
    "            flag=False\n",
    "            print(\"BOT : You are welcome..\")\n",
    "        else:\n",
    "            if(greeting(user_response)!=None):\n",
    "                print(\"BOT : \"+greeting(user_response))\n",
    "            else:\n",
    "                print(\"BOT: \",end=\"\")\n",
    "                print(response(user_response))\n",
    "                sent_tokens.remove(user_response)\n",
    "    else:\n",
    "        flag=False\n",
    "        print(\"BOT: Bye! It was an interesting conversation.\")"
   ]
  },
  {
   "cell_type": "code",
   "execution_count": null,
   "metadata": {},
   "outputs": [],
   "source": []
  },
  {
   "cell_type": "code",
   "execution_count": null,
   "metadata": {},
   "outputs": [],
   "source": []
  },
  {
   "cell_type": "code",
   "execution_count": null,
   "metadata": {},
   "outputs": [],
   "source": []
  },
  {
   "cell_type": "code",
   "execution_count": null,
   "metadata": {},
   "outputs": [],
   "source": []
  },
  {
   "cell_type": "code",
   "execution_count": null,
   "metadata": {},
   "outputs": [],
   "source": []
  },
  {
   "cell_type": "code",
   "execution_count": null,
   "metadata": {},
   "outputs": [],
   "source": []
  }
 ],
 "metadata": {
  "kernelspec": {
   "display_name": "Python 3",
   "language": "python",
   "name": "python3"
  },
  "language_info": {
   "codemirror_mode": {
    "name": "ipython",
    "version": 3
   },
   "file_extension": ".py",
   "mimetype": "text/x-python",
   "name": "python",
   "nbconvert_exporter": "python",
   "pygments_lexer": "ipython3",
   "version": "3.7.6"
  }
 },
 "nbformat": 4,
 "nbformat_minor": 4
}
